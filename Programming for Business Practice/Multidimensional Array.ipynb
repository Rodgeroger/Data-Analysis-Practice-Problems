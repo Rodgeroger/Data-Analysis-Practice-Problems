{
  "cells": [
    {
      "cell_type": "markdown",
      "metadata": {
        "id": "xCcgoSNyr2Zk"
      },
      "source": [
        "# GBA 6070 - Programming Foundation for Business Analytics\n",
        "# Dr. Mohammad Salehan\n",
        "# Assignment 8 - Multidimensioal Arrays\n",
        "Runt the cell below to set up your notebook. Each cell should start with np.random.seed(0) to make the results consistent for all students."
      ]
    },
    {
      "cell_type": "code",
      "execution_count": 6,
      "metadata": {
        "id": "C_bfoR-Dr2Zm"
      },
      "outputs": [],
      "source": [
        "import numpy as np\n",
        "np.random.seed(0)"
      ]
    },
    {
      "cell_type": "markdown",
      "metadata": {
        "id": "3YlnAe86r2Zn"
      },
      "source": [
        "1. Create a 4x4 array that contains numbers 1-16."
      ]
    },
    {
      "cell_type": "code",
      "execution_count": 5,
      "metadata": {
        "colab": {
          "base_uri": "https://localhost:8080/"
        },
        "id": "8pDCSVbUr2Zn",
        "outputId": "07e8849c-37cb-4985-f335-e850bc73a9c0"
      },
      "outputs": [
        {
          "output_type": "stream",
          "name": "stdout",
          "text": [
            "[[ 1  2  3  4]\n",
            " [ 5  6  7  8]\n",
            " [ 9 10 11 12]\n",
            " [13 14 15 16]]\n"
          ]
        }
      ],
      "source": [
        "array = np.arange(1, 17).reshape(4, 4)\n",
        "print(array)"
      ]
    },
    {
      "cell_type": "markdown",
      "metadata": {
        "id": "beM1Rbhtr2Zo"
      },
      "source": [
        "2. Create 2 random 4x3 arrays and calculate the sum of their crrosponding elements. Use vectorization for sum calculation."
      ]
    },
    {
      "cell_type": "code",
      "execution_count": 22,
      "metadata": {
        "colab": {
          "base_uri": "https://localhost:8080/"
        },
        "id": "aLz0jNqfr2Zo",
        "outputId": "413bff47-a027-43e9-8c98-a6f093ef489c"
      },
      "outputs": [
        {
          "output_type": "stream",
          "name": "stdout",
          "text": [
            "Array 1:\n",
            " [[7 8 1]\n",
            " [2 1 1]\n",
            " [7 5 0]\n",
            " [4 1 1]]\n",
            "\n",
            "Array 2:\n",
            " [[6 6 0]\n",
            " [2 3 7]\n",
            " [9 2 4]\n",
            " [9 0 6]]\n",
            "\n",
            "Sum of corresponding elements:\n",
            " [[13 14  1]\n",
            " [ 4  4  8]\n",
            " [16  7  4]\n",
            " [13  1  7]]\n"
          ]
        }
      ],
      "source": [
        "array1 = np.random.randint(0, 10, (4, 3))\n",
        "array2 = np.random.randint(0, 10, (4, 3))\n",
        "\n",
        "sum_array = array1 + array2\n",
        "print(\"Array 1:\\n\", array1)\n",
        "print(\"\\nArray 2:\\n\", array2)\n",
        "print(\"\\nSum of corresponding elements:\\n\", sum_array)"
      ]
    },
    {
      "cell_type": "markdown",
      "metadata": {
        "id": "_kIn-5v0r2Zo"
      },
      "source": [
        "3. Create 2 normally distributed (mean=0, std_dev=1) random 10x5 arrays, stack them vertically, then calculate the average of each column. Use vectorization."
      ]
    },
    {
      "cell_type": "code",
      "execution_count": 13,
      "metadata": {
        "colab": {
          "base_uri": "https://localhost:8080/"
        },
        "id": "G7m0f3gfr2Zo",
        "outputId": "30b4aa39-d03f-4ac2-f3ed-26beed54e721"
      },
      "outputs": [
        {
          "output_type": "stream",
          "name": "stdout",
          "text": [
            "Stacked Array:\n",
            " [[9 3 7 5 5]\n",
            " [8 0 8 3 6]\n",
            " [9 3 2 7 0]\n",
            " [3 0 3 6 1]\n",
            " [9 2 9 4 9]\n",
            " [1 3 2 4 9]\n",
            " [7 4 9 4 1]\n",
            " [2 7 2 3 9]\n",
            " [7 6 6 2 3]\n",
            " [6 0 8 0 7]\n",
            " [6 5 9 6 5]\n",
            " [2 7 1 9 2]\n",
            " [2 5 6 4 2]\n",
            " [2 1 0 9 0]\n",
            " [2 8 3 0 8]\n",
            " [8 1 0 5 8]\n",
            " [2 3 5 3 8]\n",
            " [6 4 6 3 6]\n",
            " [2 6 5 5 9]\n",
            " [4 6 5 1 3]]\n",
            "\n",
            "Average of Each Column:\n",
            " [4.85 3.7  4.8  4.15 5.05]\n"
          ]
        }
      ],
      "source": [
        "array1 = np.random.randint(0, 10, (10, 5))\n",
        "array2 = np.random.randint(0, 10, (10, 5))\n",
        "\n",
        "stacked_array = np.vstack((array1, array2))\n",
        "\n",
        "column_means = np.mean(stacked_array, axis=0)\n",
        "\n",
        "print(\"Stacked Array:\\n\", stacked_array)\n",
        "print(\"\\nAverage of Each Column:\\n\", column_means)"
      ]
    },
    {
      "cell_type": "markdown",
      "metadata": {
        "id": "-xv6DDTBr2Zo"
      },
      "source": [
        "4. Create a normally distributed (mean=0, std_dev=1) random 10x5 array, then calculate the sum of the values in each row. Use vectorization."
      ]
    },
    {
      "cell_type": "code",
      "execution_count": 52,
      "metadata": {
        "colab": {
          "base_uri": "https://localhost:8080/"
        },
        "id": "CTN6vzxxr2Zp",
        "outputId": "39114bc9-9ef6-4329-e6e0-0487f90f9e33"
      },
      "outputs": [
        {
          "output_type": "stream",
          "name": "stdout",
          "text": [
            "10x5 Normally Distributed Array:\n",
            " [[ 1.35146445  1.76342238 -0.62237488 -0.55015916 -2.19540892]\n",
            " [-0.34610799  0.46748685 -1.49079178  0.18028515  1.12860016]\n",
            " [ 0.26920185  0.50479393 -0.04387922  0.05890549 -1.78270813]\n",
            " [ 1.07138216 -0.33658259  1.63659924 -1.07684777 -0.26487929]\n",
            " [ 1.36155521 -1.18014331  3.2357412   1.48368638 -1.31481072]\n",
            " [ 0.86905759  0.97162559  1.34492068 -0.66900325 -0.2039615 ]\n",
            " [-0.25186539 -0.12684306  0.794597   -0.12893418  1.72536705]\n",
            " [ 0.53445963  1.30514006  0.02706297 -0.0499425   0.27420048]\n",
            " [-0.29936119 -1.07569633  0.1260749   0.35266393 -0.1057083 ]\n",
            " [-1.96648239 -0.44335792 -1.63262548  1.41026516  1.11976457]]\n",
            "\n",
            "Sum of Each Row:\n",
            " [-0.25305613 -0.06052761 -0.99368609  1.02967175  3.58602877  2.31263911\n",
            "  2.01232142  2.09092064 -1.00202699 -1.51243606]\n"
          ]
        }
      ],
      "source": [
        "array = np.random.normal(0, 1, (10, 5))\n",
        "\n",
        "row_sums = np.sum(array, axis=1)\n",
        "\n",
        "print(\"10x5 Normally Distributed Array:\\n\", array)\n",
        "print(\"\\nSum of Each Row:\\n\", row_sums)"
      ]
    },
    {
      "cell_type": "markdown",
      "metadata": {
        "id": "PA8VsRjxr2Zp"
      },
      "source": [
        "5. Create a 5x3 array initialized with random integers 1-10, then reshape it to 3x5, and then calculate its sum (single number fo sum). Use vectorization."
      ]
    },
    {
      "cell_type": "code",
      "execution_count": 26,
      "metadata": {
        "colab": {
          "base_uri": "https://localhost:8080/"
        },
        "id": "oWU1BTybr2Zp",
        "outputId": "98f2829e-da4f-4c1c-a8da-b8802f5d2b4d"
      },
      "outputs": [
        {
          "output_type": "stream",
          "name": "stdout",
          "text": [
            "Original 5x3 Array:\n",
            " [[ 3  5  9]\n",
            " [ 3 10  9]\n",
            " [ 8  9  3]\n",
            " [ 4  4  7]\n",
            " [ 1  4  7]]\n",
            "\n",
            "Reshaped 3x5 Array:\n",
            " [[ 3  5  9  3 10]\n",
            " [ 9  8  9  3  4]\n",
            " [ 4  7  1  4  7]]\n",
            "\n",
            "Total Sum of All Elements: 86\n"
          ]
        }
      ],
      "source": [
        "array = np.random.randint(1, 11, (5, 3))\n",
        "reshaped_array = array.reshape(3, 5)\n",
        "sum_array = np.sum(reshaped_array)\n",
        "\n",
        "print(\"Original 5x3 Array:\\n\", array)\n",
        "print(\"\\nReshaped 3x5 Array:\\n\", reshaped_array)\n",
        "print(\"\\nTotal Sum of All Elements:\", sum_array)"
      ]
    },
    {
      "cell_type": "markdown",
      "metadata": {
        "id": "yRZullAyr2Zp"
      },
      "source": [
        "6. Create a 5x3 array initialized with random integers 1-10, then multiply each value by 2. Use vectorization."
      ]
    },
    {
      "cell_type": "code",
      "execution_count": 24,
      "metadata": {
        "colab": {
          "base_uri": "https://localhost:8080/"
        },
        "id": "EYMlbGdgr2Zp",
        "outputId": "3719536d-6263-48a3-9adf-b8cf3782ea86"
      },
      "outputs": [
        {
          "output_type": "stream",
          "name": "stdout",
          "text": [
            "Original Array:\n",
            " [[ 5  2  8]\n",
            " [ 5  1  3]\n",
            " [ 8  5  1]\n",
            " [ 3  7 10]\n",
            " [ 3  5 10]]\n",
            "\n",
            "Doubled Array:\n",
            " [[10  4 16]\n",
            " [10  2  6]\n",
            " [16 10  2]\n",
            " [ 6 14 20]\n",
            " [ 6 10 20]]\n"
          ]
        }
      ],
      "source": [
        "array = np.random.randint(1, 11, (5, 3))\n",
        "doubled_array = array * 2\n",
        "\n",
        "print(\"Original Array:\\n\", array)\n",
        "print(\"\\nDoubled Array:\\n\", doubled_array)"
      ]
    }
  ],
  "metadata": {
    "kernelspec": {
      "display_name": "Python 3",
      "language": "python",
      "name": "python3"
    },
    "language_info": {
      "codemirror_mode": {
        "name": "ipython",
        "version": 3
      },
      "file_extension": ".py",
      "mimetype": "text/x-python",
      "name": "python",
      "nbconvert_exporter": "python",
      "pygments_lexer": "ipython3",
      "version": "3.6.5"
    },
    "colab": {
      "provenance": []
    }
  },
  "nbformat": 4,
  "nbformat_minor": 0
}
