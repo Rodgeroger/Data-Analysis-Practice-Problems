{
  "cells": [
    {
      "cell_type": "markdown",
      "metadata": {
        "id": "-sM8yTpk8Uz0"
      },
      "source": [
        "\n",
        " Strings, Dictionaries"
      ]
    },
    {
      "cell_type": "markdown",
      "metadata": {
        "id": "2twEu9uG8Uz2"
      },
      "source": [
        "1. Write a function called capital which accepts a string and returns the same string after capitalizing the first letter. For example, if the parameter is 'banana', it will return 'Banana'."
      ]
    },
    {
      "cell_type": "code",
      "execution_count": 14,
      "metadata": {
        "id": "rpMN-6jU8Uz3",
        "colab": {
          "base_uri": "https://localhost:8080/"
        },
        "outputId": "39ed0f4c-e47e-4bfa-ab30-1e8da232d463"
      },
      "outputs": [
        {
          "output_type": "stream",
          "name": "stdout",
          "text": [
            "Banana\n"
          ]
        }
      ],
      "source": [
        "def capital(s):\n",
        "    return s.capitalize()\n",
        "print(capital(\"banana\"))"
      ]
    },
    {
      "cell_type": "markdown",
      "metadata": {
        "id": "S8gXpNJd8Uz3"
      },
      "source": [
        "2. Write a function called count_As that returns the number of a's in a string. For example, for 'banana', it will return 3."
      ]
    },
    {
      "cell_type": "code",
      "execution_count": 15,
      "metadata": {
        "id": "ks5Vk4_K8Uz4",
        "colab": {
          "base_uri": "https://localhost:8080/"
        },
        "outputId": "d9ec1aaa-9334-473e-c823-84669528b9ac"
      },
      "outputs": [
        {
          "output_type": "stream",
          "name": "stdout",
          "text": [
            "3\n",
            "1\n"
          ]
        }
      ],
      "source": [
        "def count_As(s):\n",
        "    return s.lower().count('a')\n",
        "print(count_As(\"banana\"))  #3\n",
        "print(count_As(\"Apple\"))   #1"
      ]
    },
    {
      "cell_type": "markdown",
      "metadata": {
        "id": "plTtCmN88Uz4"
      },
      "source": [
        "3. Write a function called print_evens that accepts a dictionary as parameter and prints key-values where the value is divisible by 2. For example, if dictionary={'a':2, 'b':3, 'c':4, 'd':5} it will print a 2 and c 4."
      ]
    },
    {
      "cell_type": "code",
      "execution_count": 20,
      "metadata": {
        "id": "5Wo6bZLD8Uz4",
        "colab": {
          "base_uri": "https://localhost:8080/"
        },
        "outputId": "e3f7f098-d91b-4b5b-d7d1-831ad38ac1af"
      },
      "outputs": [
        {
          "output_type": "stream",
          "name": "stdout",
          "text": [
            "a 2\n",
            "c 4\n"
          ]
        }
      ],
      "source": [
        "x = {'a': 2, 'b': 3, 'c': 4, 'd': 5}\n",
        "def print_evens(x):\n",
        "    for key, value in x.items():\n",
        "        if value % 2 == 0:\n",
        "            print(key, value)\n",
        "print_evens(x)"
      ]
    },
    {
      "cell_type": "markdown",
      "metadata": {
        "id": "Qcp93_UW8Uz5"
      },
      "source": [
        "4. Write a function called double_dict that takes a dictionary and mutiplies all the values (not keys) by 2. For example, given dictionary={'a':2, 'b':3, 'c':4, 'd':5}, after running the function dictionary would be {'a':4, 'b':6, 'c':8, 'd':10}."
      ]
    },
    {
      "cell_type": "code",
      "execution_count": 24,
      "metadata": {
        "id": "CNpFrHVB8Uz5",
        "colab": {
          "base_uri": "https://localhost:8080/"
        },
        "outputId": "d47869f0-443b-42b6-8087-2214d53b71df"
      },
      "outputs": [
        {
          "output_type": "stream",
          "name": "stdout",
          "text": [
            "{'a': 4, 'b': 6, 'c': 8, 'd': 10}\n"
          ]
        }
      ],
      "source": [
        "x = {'a' : 2, 'b' : 3, 'c' : 4, 'd' : 5}\n",
        "def double_dict(dictionary):\n",
        "    for key in dictionary:\n",
        "        dictionary[key] *= 2\n",
        "double_dict(x)\n",
        "print(x)"
      ]
    }
  ],
  "metadata": {
    "kernelspec": {
      "display_name": "Python 3",
      "language": "python",
      "name": "python3"
    },
    "language_info": {
      "codemirror_mode": {
        "name": "ipython",
        "version": 3
      },
      "file_extension": ".py",
      "mimetype": "text/x-python",
      "name": "python",
      "nbconvert_exporter": "python",
      "pygments_lexer": "ipython3",
      "version": "3.6.5"
    },
    "colab": {
      "provenance": []
    }
  },
  "nbformat": 4,
  "nbformat_minor": 0
}