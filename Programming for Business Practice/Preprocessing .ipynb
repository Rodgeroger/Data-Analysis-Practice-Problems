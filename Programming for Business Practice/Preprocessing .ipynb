{
  "cells": [
    {
      "cell_type": "markdown",
      "metadata": {
        "id": "i6cTcFs2jfQa"
      },
      "source": [
        "# GBA 6070 - Programming Foundation for Business Analytics\n",
        "# Dr. Mohammad Salehan\n",
        "# Assignment 11 - Preprocessing\n",
        "Enter your name below."
      ]
    },
    {
      "cell_type": "raw",
      "metadata": {
        "id": "vZqfo82QjfQc"
      },
      "source": []
    },
    {
      "cell_type": "markdown",
      "metadata": {
        "id": "52nNBX6YjfQc"
      },
      "source": [
        "In this assignment you will work with a dataset of cars. Let's start with loading the dataset. The missing values in the dataset are marked with ``?``."
      ]
    },
    {
      "cell_type": "code",
      "execution_count": null,
      "metadata": {
        "id": "D4ZdVG6zjfQc"
      },
      "outputs": [],
      "source": [
        "import pandas as pd\n",
        "cars = pd.read_csv('Cars.csv', na_values='?')"
      ]
    },
    {
      "cell_type": "markdown",
      "metadata": {
        "id": "G2dWDNvojfQd"
      },
      "source": [
        "1. Examine the shape of the ``dataframe``."
      ]
    },
    {
      "cell_type": "code",
      "execution_count": null,
      "metadata": {
        "id": "QUB3X1ypjfQd"
      },
      "outputs": [],
      "source": [
        "cars.shape"
      ]
    },
    {
      "cell_type": "markdown",
      "metadata": {
        "id": "7uF7ecRsjfQd"
      },
      "source": [
        "2. Check the top 5 rows of the ``dataframe`` to see what it looks like."
      ]
    },
    {
      "cell_type": "code",
      "execution_count": null,
      "metadata": {
        "id": "YhmpWgRijfQd"
      },
      "outputs": [],
      "source": [
        "cars.head()"
      ]
    },
    {
      "cell_type": "markdown",
      "metadata": {
        "id": "DLfL4RPHjfQd"
      },
      "source": [
        "3. Examine the number of missing values in each column."
      ]
    },
    {
      "cell_type": "code",
      "execution_count": null,
      "metadata": {
        "scrolled": false,
        "id": "qLoeAvNUjfQd"
      },
      "outputs": [],
      "source": [
        "cars.isna().sum()"
      ]
    },
    {
      "cell_type": "markdown",
      "metadata": {
        "id": "9PwwGN59jfQd"
      },
      "source": [
        "4. Replace the missing values in ``num-of-doors`` with the most frequent value. Examine the missing values again to make sure missing values for ``num-of-doors`` are removed."
      ]
    },
    {
      "cell_type": "code",
      "execution_count": null,
      "metadata": {
        "id": "SmZxX76ljfQd"
      },
      "outputs": [],
      "source": [
        "cars['num-of-doors'].fillna(cars['num-of-doors'].mode()[0], inplace=True)\n",
        "cars.isna().sum()"
      ]
    },
    {
      "cell_type": "markdown",
      "metadata": {
        "id": "suIhwEXmjfQd"
      },
      "source": [
        "5. Replace the rest of missing values with mean of each column. Examine the missing values again to make sure all of them are removed."
      ]
    },
    {
      "cell_type": "code",
      "execution_count": null,
      "metadata": {
        "id": "QYkPhtoxjfQe"
      },
      "outputs": [],
      "source": [
        "cars.fillna(cars.mean(), inplace=True)\n",
        "cars.isna().sum()"
      ]
    },
    {
      "cell_type": "markdown",
      "metadata": {
        "id": "cmWFJbEbjfQe"
      },
      "source": [
        "6. Let's examine distinct values in ``num-of-doors``."
      ]
    },
    {
      "cell_type": "code",
      "execution_count": null,
      "metadata": {
        "id": "Gtf6Y3BujfQe"
      },
      "outputs": [],
      "source": [
        "cars['num-of-doors'].unique()"
      ]
    },
    {
      "cell_type": "markdown",
      "metadata": {
        "id": "yfiC_3TCjfQe"
      },
      "source": [
        "Convert the string values in ``num-of-doors`` to their numeric equivalent (2, 4)."
      ]
    },
    {
      "cell_type": "code",
      "execution_count": null,
      "metadata": {
        "id": "prySBbdajfQe"
      },
      "outputs": [],
      "source": [
        "cars['num-of-doors'] = cars['num-of-doors'].apply(lambda x: 2 if x=='two' else 4)\n",
        "cars['num-of-doors'].unique()"
      ]
    },
    {
      "cell_type": "markdown",
      "metadata": {
        "id": "14p8VzgdjfQe"
      },
      "source": [
        "7. Do the same thing as above for ``num-of-cylinders``."
      ]
    },
    {
      "cell_type": "code",
      "execution_count": null,
      "metadata": {
        "id": "G67W3ZTujfQe"
      },
      "outputs": [],
      "source": [
        "cars['num-of-cylinders'].unique()"
      ]
    },
    {
      "cell_type": "code",
      "execution_count": null,
      "metadata": {
        "id": "S8kevRf4jfQe"
      },
      "outputs": [],
      "source": [
        "mappings = dict(zip(cars['num-of-cylinders'].unique(), [4,6,5,3,12,2,8]))\n",
        "cars['num-of-cylinders'] = cars['num-of-cylinders'].apply(lambda x: mappings[x])\n",
        "cars.iloc[:, -13:].head()"
      ]
    },
    {
      "cell_type": "markdown",
      "metadata": {
        "id": "3jt2Hnh8jfQe"
      },
      "source": [
        "8. For each ``make``, calculate maximum ``price``, minimum ``city-mpg``, and mean ``horsepower``."
      ]
    },
    {
      "cell_type": "code",
      "execution_count": null,
      "metadata": {
        "id": "4K1TuOcjjfQe"
      },
      "outputs": [],
      "source": [
        "cars.groupby('make').aggregate({'price': 'max',\n",
        "                               'city-mpg': 'min',\n",
        "                               'horsepower': 'mean'})"
      ]
    },
    {
      "cell_type": "markdown",
      "metadata": {
        "id": "JE2saI5HjfQe"
      },
      "source": [
        "9. Which ``make`` is, on average, the most expensive?"
      ]
    },
    {
      "cell_type": "code",
      "execution_count": null,
      "metadata": {
        "id": "G1h5KmFejfQe"
      },
      "outputs": [],
      "source": [
        "cars.groupby('make').mean()['price'].sort_values(ascending=False)"
      ]
    },
    {
      "cell_type": "markdown",
      "metadata": {
        "id": "d1aVXaE_jfQe"
      },
      "source": [
        "10. Create dummies for all categorical columns."
      ]
    },
    {
      "cell_type": "code",
      "execution_count": null,
      "metadata": {
        "id": "2_pJ_LLXjfQe"
      },
      "outputs": [],
      "source": [
        "cars = pd.get_dummies(cars, columns=['make', 'fuel-type', 'aspiration',\n",
        "                                     'num-of-doors','body-style','drive-wheels','engine-location',\n",
        "                                     'engine-type','fuel-system'\n",
        "\n",
        "])\n",
        "cars.columns"
      ]
    },
    {
      "cell_type": "markdown",
      "metadata": {
        "id": "OtSWvDCCjfQe"
      },
      "source": [
        "11. Normalize all numeric values in the dataset. Exclude the dummies."
      ]
    },
    {
      "cell_type": "code",
      "execution_count": null,
      "metadata": {
        "scrolled": true,
        "id": "rTsPv_iyjfQe"
      },
      "outputs": [],
      "source": [
        "from sklearn import preprocessing\n",
        "cars.iloc[:, :17] = preprocessing.scale(cars.iloc[:, :17])\n",
        "cars.head()"
      ]
    },
    {
      "cell_type": "code",
      "source": [
        "cars.iloc[:, 9:].head()"
      ],
      "metadata": {
        "id": "h-Lt4gQ_kXlr"
      },
      "execution_count": null,
      "outputs": []
    }
  ],
  "metadata": {
    "kernelspec": {
      "display_name": "Python 3",
      "language": "python",
      "name": "python3"
    },
    "language_info": {
      "codemirror_mode": {
        "name": "ipython",
        "version": 3
      },
      "file_extension": ".py",
      "mimetype": "text/x-python",
      "name": "python",
      "nbconvert_exporter": "python",
      "pygments_lexer": "ipython3",
      "version": "3.6.5"
    },
    "colab": {
      "provenance": []
    }
  },
  "nbformat": 4,
  "nbformat_minor": 0
}
