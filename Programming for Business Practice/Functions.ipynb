{
  "cells": [
    {
      "cell_type": "markdown",
      "metadata": {
        "id": "j9sJQKW0VxU_"
      },
      "source": [
        "1. Write a function that produces a greeting for a name passed to it as an argument."
      ]
    },
    {
      "cell_type": "code",
      "source": [
        "def greet(name):\n",
        "  print(f'Hello {name}!')\n",
        "greet(\"Roger\")"
      ],
      "metadata": {
        "colab": {
          "base_uri": "https://localhost:8080/"
        },
        "id": "gOxKcTubSf_Y",
        "outputId": "edc96070-cc29-43dc-e169-64e70e81c582"
      },
      "execution_count": 11,
      "outputs": [
        {
          "output_type": "stream",
          "name": "stdout",
          "text": [
            "Hello Roger!\n"
          ]
        }
      ]
    },
    {
      "cell_type": "markdown",
      "metadata": {
        "id": "fYScnvnEVxVA"
      },
      "source": [
        "2. Write a function that accepts a time duration as 3 arguments: hours, minutes, and seconds and calculates the total numbers of seconds."
      ]
    },
    {
      "cell_type": "code",
      "source": [
        "def calculate_seconds(hours, minutes, seconds):\n",
        "    return hours * 3600 + minutes * 60 + seconds\n",
        "calculate_seconds(2,30,0)"
      ],
      "metadata": {
        "colab": {
          "base_uri": "https://localhost:8080/"
        },
        "id": "hYSpxCBTVSAN",
        "outputId": "4ac9cc96-f20d-4393-d3a3-2e4aba14b19c"
      },
      "execution_count": 10,
      "outputs": [
        {
          "output_type": "execute_result",
          "data": {
            "text/plain": [
              "9000"
            ]
          },
          "metadata": {},
          "execution_count": 10
        }
      ]
    },
    {
      "cell_type": "markdown",
      "metadata": {
        "id": "tzu0kpjBVxVC"
      },
      "source": [
        "3. Write a function named right_justify that takes a string named s as a parameter\n",
        "and prints the string with enough leading spaces so that the last letter of the string is in column 70\n",
        "of the display.<br>\n",
        "Hint: Use string concatenation and repetition. Also, Python provides a built-in function called len\n",
        "that returns the length of a string, so the value of len('monty') is 5."
      ]
    },
    {
      "cell_type": "code",
      "source": [
        "def right_justify(s):\n",
        "  no_of_spaces = 70 - len(s)\n",
        "  output = ' ' * no_of_spaces + s\n",
        "  print(output)\n",
        "right_justify('Hi')"
      ],
      "metadata": {
        "colab": {
          "base_uri": "https://localhost:8080/"
        },
        "id": "GJIueWt2WRqo",
        "outputId": "279156fd-c955-449a-c938-681ee69deb4e"
      },
      "execution_count": 16,
      "outputs": [
        {
          "output_type": "stream",
          "name": "stdout",
          "text": [
            "                                                                    Hi\n"
          ]
        }
      ]
    },
    {
      "cell_type": "markdown",
      "source": [
        "4. Write a function that returns the maximum of 2 numbers.\n",
        "List item\n",
        "List item"
      ],
      "metadata": {
        "id": "3hPk_rmXWrYi"
      }
    },
    {
      "cell_type": "code",
      "source": [
        "def max_of_two(a, b):\n",
        "    return max(a, b)\n",
        "print(max_of_two(10, 20))"
      ],
      "metadata": {
        "colab": {
          "base_uri": "https://localhost:8080/"
        },
        "id": "rJZbvoMaXEmm",
        "outputId": "b0f50990-4127-4829-c852-571bd70cca05"
      },
      "execution_count": 17,
      "outputs": [
        {
          "output_type": "stream",
          "name": "stdout",
          "text": [
            "20\n"
          ]
        }
      ]
    },
    {
      "cell_type": "markdown",
      "source": [
        "5. Write a function that returns absolute value of a number using conditional statements."
      ],
      "metadata": {
        "id": "WcChBw6bWvcb"
      }
    },
    {
      "cell_type": "code",
      "source": [
        "def absolute_value(n):\n",
        "    if n < 0:\n",
        "        return -n\n",
        "    else:\n",
        "        return n\n",
        "print(absolute_value(-10))"
      ],
      "metadata": {
        "colab": {
          "base_uri": "https://localhost:8080/"
        },
        "id": "nqL-hqH8eHif",
        "outputId": "dec59ee6-1a9c-4fa1-b3c4-3dc765ce8909"
      },
      "execution_count": 19,
      "outputs": [
        {
          "output_type": "stream",
          "name": "stdout",
          "text": [
            "10\n"
          ]
        }
      ]
    },
    {
      "cell_type": "markdown",
      "source": [
        "6. Write a function that checks whether a number is even or odd."
      ],
      "metadata": {
        "id": "_G6qQyjEW2qV"
      }
    },
    {
      "cell_type": "code",
      "source": [
        "def even_or_odd(n):\n",
        "    if n % 2 == 0:\n",
        "        return \"Even\"\n",
        "    else:\n",
        "        return \"Odd\"\n",
        "print(even_or_odd(10))\n",
        "print(even_or_odd(7))"
      ],
      "metadata": {
        "colab": {
          "base_uri": "https://localhost:8080/"
        },
        "id": "YGBJRay0efPv",
        "outputId": "cfeb8768-cf92-43d2-cf74-aebd956cc8a4"
      },
      "execution_count": 20,
      "outputs": [
        {
          "output_type": "stream",
          "name": "stdout",
          "text": [
            "Even\n",
            "Odd\n"
          ]
        }
      ]
    },
    {
      "cell_type": "markdown",
      "source": [
        "7. Write a program that calculates net pay based on gross pay and the following tax breaks:<br>\n",
        "<ul><li>salary &lt;&equals; &dollar;20,000 : 0% </li>\n",
        "<li> 20,000 &lt; salary &lt;&equals; &dollar;40,000: 10%\n",
        "<li>40,000 &lt; salary &lt;&equals; &dollar;80,000 : 15%\n",
        "    <li>salary &gt; &dollar;80,000: 20% </li></ul>\n",
        "Please not that for someone making &dollar;90,000, the first &dollar;20,000 is tax free, the next &dollar;20,000 falls in second tax break (10%) and so on."
      ],
      "metadata": {
        "id": "r0o4l8-LW8t8"
      }
    },
    {
      "cell_type": "code",
      "source": [
        "def calculate_net_pay(gross_pay):\n",
        "    if gross_pay <= 20000:\n",
        "        tax = 0\n",
        "    elif gross_pay <= 40000:\n",
        "        tax = (gross_pay - 20000) * 0.10\n",
        "    elif gross_pay <= 80000:\n",
        "        tax = (20000 * 0.10) + (gross_pay - 40000) * 0.15\n",
        "    else:\n",
        "        tax = (20000 * 0.10) + (40000 * 0.15) + (gross_pay - 80000) * 0.20\n",
        "    net_pay = gross_pay - tax\n",
        "    return net_pay\n",
        "gross_salary = float(input(\"Enter your gross salary: \"))\n",
        "net_salary = calculate_net_pay(gross_salary)\n",
        "print(f\"Your net salary is: ${net_salary:.2f}\")"
      ],
      "metadata": {
        "colab": {
          "base_uri": "https://localhost:8080/"
        },
        "id": "rzCHgnyDflyB",
        "outputId": "aa4d8acd-1fef-4e5c-83e1-9975ed049c30"
      },
      "execution_count": 23,
      "outputs": [
        {
          "output_type": "stream",
          "name": "stdout",
          "text": [
            "Enter your gross salary: 24000\n",
            "Your net salary is: $23600.00\n"
          ]
        }
      ]
    },
    {
      "cell_type": "markdown",
      "source": [
        "8. Write a function that accepts a month number and returns the number of days in that month"
      ],
      "metadata": {
        "id": "X-7SGkWGXRGy"
      }
    },
    {
      "cell_type": "code",
      "source": [
        "def days_in_month(month):\n",
        "    month_days = {\n",
        "        1: 31,  # January\n",
        "        2: 28,  # February\n",
        "        3: 31,  # March\n",
        "        4: 30,  # April\n",
        "        5: 31,  # May\n",
        "        6: 30,  # June\n",
        "        7: 31,  # July\n",
        "        8: 31,  # August\n",
        "        9: 30,  # September\n",
        "        10: 31, # October\n",
        "        11: 30, # November\n",
        "        12: 31  # December\n",
        "    }\n",
        "    return month_days.get(month, \"Invalid month\")\n",
        "month_number = int(input(\"Enter month number (1-12): \"))\n",
        "print(f\"Days in month: {days_in_month(month_number)}\")\n"
      ],
      "metadata": {
        "colab": {
          "base_uri": "https://localhost:8080/"
        },
        "id": "LiY2wEJKf5Dy",
        "outputId": "bd14236b-a966-4fed-c7be-012a43c41284"
      },
      "execution_count": 24,
      "outputs": [
        {
          "output_type": "stream",
          "name": "stdout",
          "text": [
            "Enter month number (1-12): 7\n",
            "Days in month: 31\n"
          ]
        }
      ]
    }
  ],
  "metadata": {
    "kernelspec": {
      "display_name": "Python 3",
      "language": "python",
      "name": "python3"
    },
    "language_info": {
      "codemirror_mode": {
        "name": "ipython",
        "version": 3
      },
      "file_extension": ".py",
      "mimetype": "text/x-python",
      "name": "python",
      "nbconvert_exporter": "python",
      "pygments_lexer": "ipython3",
      "version": "3.6.5"
    },
    "colab": {
      "provenance": []
    }
  },
  "nbformat": 4,
  "nbformat_minor": 0
}
