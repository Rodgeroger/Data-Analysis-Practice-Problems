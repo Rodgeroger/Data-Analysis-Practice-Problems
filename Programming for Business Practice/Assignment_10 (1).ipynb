{
  "cells": [
    {
      "cell_type": "markdown",
      "metadata": {
        "id": "vD7o_40mz16f"
      },
      "source": [
        "# GBA 6070 - Programming Foundation for Business Analytics\n",
        "# Dr. Mohammad Salehan\n",
        "# Assignment 10 - Dataframe I|\n",
        "Enter your name below."
      ]
    },
    {
      "cell_type": "raw",
      "metadata": {
        "id": "2bCpRyCZz16i"
      },
      "source": []
    },
    {
      "cell_type": "markdown",
      "metadata": {
        "id": "6lkosYkZz16i"
      },
      "source": [
        "In this assignment you will work with a weather dataset. Let's start with loading the dataset."
      ]
    },
    {
      "cell_type": "code",
      "execution_count": null,
      "metadata": {
        "id": "ziM8qHgKz16i"
      },
      "outputs": [],
      "source": [
        "import pandas as pd\n",
        "weather = pd.read_csv('weather2.csv')"
      ]
    },
    {
      "cell_type": "markdown",
      "metadata": {
        "id": "q_d4xnRHz16j"
      },
      "source": [
        "We also use another dataset that contains information about each weather station."
      ]
    },
    {
      "cell_type": "code",
      "execution_count": null,
      "metadata": {
        "id": "1I6GhaSTz16j"
      },
      "outputs": [],
      "source": [
        "stations = pd.read_excel('Station Information.xlsx')"
      ]
    },
    {
      "cell_type": "markdown",
      "metadata": {
        "id": "oUFeXCwkz16j"
      },
      "source": [
        "1. Examine the shape of the both dataframes."
      ]
    },
    {
      "cell_type": "code",
      "execution_count": null,
      "metadata": {
        "id": "qoIBa9l7z16k"
      },
      "outputs": [],
      "source": [
        "weather.shape, stations.shape"
      ]
    },
    {
      "cell_type": "markdown",
      "metadata": {
        "id": "wO3Z5DNWz16k"
      },
      "source": [
        "2. Check the top 5 rows of each dataframe to see what it looks like."
      ]
    },
    {
      "cell_type": "code",
      "execution_count": null,
      "metadata": {
        "id": "cyYSkHXwz16k"
      },
      "outputs": [],
      "source": [
        "weather.head()"
      ]
    },
    {
      "cell_type": "code",
      "execution_count": null,
      "metadata": {
        "id": "3r38uOgcz16k"
      },
      "outputs": [],
      "source": [
        "stations.head()"
      ]
    },
    {
      "cell_type": "markdown",
      "metadata": {
        "id": "786Y6RpTz16k"
      },
      "source": [
        "3. Exclude the first column (Unnamed) of weather, then display the top row."
      ]
    },
    {
      "cell_type": "code",
      "execution_count": null,
      "metadata": {
        "scrolled": false,
        "id": "cAVWDO6pz16k"
      },
      "outputs": [],
      "source": [
        "weather= weather.iloc[:, 1:]\n",
        "weather.head(1)"
      ]
    },
    {
      "cell_type": "markdown",
      "metadata": {
        "id": "HaXx509mz16k"
      },
      "source": [
        "Below, we combine USAF and WBAN columns of stations dataframe to create a new column named station_wban that looks like the one in weather dataframe."
      ]
    },
    {
      "cell_type": "code",
      "execution_count": null,
      "metadata": {
        "id": "q0ekRTi8z16l"
      },
      "outputs": [],
      "source": [
        "stations['station_wban'] = stations['USAF'].astype(str)+'-'+stations['WBAN'].astype(str)\n",
        "stations.head()"
      ]
    },
    {
      "cell_type": "markdown",
      "metadata": {
        "id": "uBJ9PQJUz16l"
      },
      "source": [
        "4. Join the 2 dataframes to add station name, country (CTRY) and state (ST CALL) to weather dataframe. There is no need for the rest of the columns in stations. You should use the proper type of join so that the number of rows in weather dataframe stays the same. At the end of this part, the shape of weather should be (100000, 16)."
      ]
    },
    {
      "cell_type": "code",
      "source": [
        "weather = pd.merge(weather, stations, how='left')\n",
        "weather.head(1)"
      ],
      "metadata": {
        "id": "LJwDHjmYe6KL"
      },
      "execution_count": null,
      "outputs": []
    },
    {
      "cell_type": "code",
      "source": [
        "weather.drop(['USAF', 'WBAN', 'LAT', 'LON', 'ELEV(M)', 'BEGIN', 'END'], axis=1, inplace=True)\n",
        "weather.head(1)"
      ],
      "metadata": {
        "id": "r1qLbYoVe-_v"
      },
      "execution_count": null,
      "outputs": []
    },
    {
      "cell_type": "code",
      "source": [
        "stations_join = stations[['STATION NAME', 'CTRY', 'ST CALL', 'station_wban']]\n",
        "weather = pd.merge(weather, stations_join)"
      ],
      "metadata": {
        "id": "GlQSPZjsfAQx"
      },
      "execution_count": null,
      "outputs": []
    },
    {
      "cell_type": "code",
      "source": [
        "new_weather = weather.merge(stations[['station_wban','STATION NAME', 'CTRY', 'ST CALL']])"
      ],
      "metadata": {
        "id": "-Ver2OeZfCIT"
      },
      "execution_count": null,
      "outputs": []
    },
    {
      "cell_type": "code",
      "source": [
        "weather.shape"
      ],
      "metadata": {
        "id": "8S1EHhMIfCPE"
      },
      "execution_count": null,
      "outputs": []
    },
    {
      "cell_type": "markdown",
      "metadata": {
        "id": "G9On4xY4z16l"
      },
      "source": [
        "5. Show descriptive statistics for all numeric columns of weather dataframe."
      ]
    },
    {
      "cell_type": "code",
      "execution_count": null,
      "metadata": {
        "id": "GPn-74W8z16l"
      },
      "outputs": [],
      "source": [
        "weather.describe()"
      ]
    },
    {
      "cell_type": "markdown",
      "metadata": {
        "id": "_0WXUk5mz16l"
      },
      "source": [
        "6. In all numeric columns, values 9999, -9999, 999, and -999 represent missing values. Replace all of them with np.nan using <a href='https://pandas.pydata.org/pandas-docs/stable/reference/api/pandas.DataFrame.replace.html' target='blank'>.replace() </a> method of dataframe."
      ]
    },
    {
      "cell_type": "code",
      "execution_count": null,
      "metadata": {
        "id": "A70pgZumz16m"
      },
      "outputs": [],
      "source": [
        "weather = weather.replace([9999, -9999, 999,  -999], np.nan)\n",
        "weather.head()"
      ]
    },
    {
      "cell_type": "markdown",
      "metadata": {
        "id": "zASHfo_Dz16m"
      },
      "source": [
        "7. Run descriptive statistics again to make sure the the values are transformed correctly."
      ]
    },
    {
      "cell_type": "code",
      "execution_count": null,
      "metadata": {
        "id": "oLYsmHg0z16m"
      },
      "outputs": [],
      "source": [
        "weather.describe()"
      ]
    },
    {
      "cell_type": "markdown",
      "metadata": {
        "id": "gUfvDL-uz16m"
      },
      "source": [
        "8. All tempreature meaures are inflated with a factor of 10. For example, 289 for temperature means 28.9 degrees. Divide all temperature values by 10. Use .apply() method and lambda function. Other columns, such as day and hour should not be affected."
      ]
    },
    {
      "cell_type": "code",
      "execution_count": null,
      "metadata": {
        "scrolled": true,
        "id": "ij4fxbntz16m"
      },
      "outputs": [],
      "source": [
        "weather.iloc[:, 4:-3] = weather.iloc[:, 4:-3].apply(lambda x:x/10)\n",
        "weather.head()"
      ]
    },
    {
      "cell_type": "markdown",
      "metadata": {
        "id": "00CDwWAiz16m"
      },
      "source": [
        "9. Replace all missing values with mean of each column."
      ]
    },
    {
      "cell_type": "code",
      "execution_count": null,
      "metadata": {
        "id": "0cAu9Pl5z16n"
      },
      "outputs": [],
      "source": [
        "weather.fillna(weather.mean(), inplace=True)\n",
        "weather.head()"
      ]
    },
    {
      "cell_type": "markdown",
      "metadata": {
        "id": "ta-8HA9Gz16n"
      },
      "source": [
        "10. Calculate mean temperature, max wind speed, and min dew point for each station for each year."
      ]
    },
    {
      "cell_type": "code",
      "execution_count": null,
      "metadata": {
        "scrolled": true,
        "id": "rsTaGLLlz16n"
      },
      "outputs": [],
      "source": [
        "weather.groupby(['station_wban', 'year']).aggregate({\n",
        "    'temperature': 'mean',\n",
        "    'dew_point': 'min',\n",
        "    'wind_speed': 'max'\n",
        "})"
      ]
    },
    {
      "cell_type": "markdown",
      "metadata": {
        "id": "PlEDHCIQz16n"
      },
      "source": [
        "### Extra credit\n",
        "When imputing missing values, replace each missing values with the mean of the measure for the same station."
      ]
    },
    {
      "cell_type": "code",
      "execution_count": null,
      "metadata": {
        "id": "rNFdOlyiz16n"
      },
      "outputs": [],
      "source": [
        "weather = pd.read_csv('weather2.csv')\n",
        "stations = pd.read_excel('Station Information.xlsx')\n",
        "weather.drop(weather.columns[0], axis=1, inplace=True)\n",
        "stations['station_wban'] = stations['USAF'].astype(str)+'-'+stations['WBAN'].astype(str)\n",
        "weather = pd.merge(weather, stations, how='left')\n",
        "weather.drop(['USAF', 'WBAN', 'LAT', 'LON', 'ELEV(M)', 'BEGIN', 'END'], axis=1, inplace=True)\n",
        "weather = weather.replace([9999, -9999, 999,  -999], np.nan)\n",
        "weather.iloc[:, 4:-3] = weather.iloc[:, 4:-3].apply(lambda x:x/10)\n",
        "weather.head()"
      ]
    }
  ],
  "metadata": {
    "kernelspec": {
      "display_name": "Python 3",
      "language": "python",
      "name": "python3"
    },
    "language_info": {
      "codemirror_mode": {
        "name": "ipython",
        "version": 3
      },
      "file_extension": ".py",
      "mimetype": "text/x-python",
      "name": "python",
      "nbconvert_exporter": "python",
      "pygments_lexer": "ipython3",
      "version": "3.6.5"
    },
    "colab": {
      "provenance": []
    }
  },
  "nbformat": 4,
  "nbformat_minor": 0
}